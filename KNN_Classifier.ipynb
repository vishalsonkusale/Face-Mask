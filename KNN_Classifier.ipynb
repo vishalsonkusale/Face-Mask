{
 "cells": [
  {
   "cell_type": "markdown",
   "metadata": {},
   "source": [
    "# KNN Classifier (Mask, No Mask, Incorrect Mask)"
   ]
  },
  {
   "cell_type": "markdown",
   "metadata": {},
   "source": [
    "## Imports"
   ]
  },
  {
   "cell_type": "code",
   "execution_count": 1,
   "metadata": {},
   "outputs": [],
   "source": [
    "# import packages\n",
    "from sklearn.metrics import accuracy_score, confusion_matrix, precision_score, recall_score, f1_score, classification_report\n",
    "from sklearn.neighbors import KNeighborsClassifier\n",
    "from sklearn.model_selection import train_test_split, cross_val_score, GridSearchCV, RandomizedSearchCV\n",
    "from sklearn.decomposition import PCA # Dimensionality Reduction\n",
    "\n",
    "import seaborn as sns # for confusion matrix\n",
    "import pandas as pd\n",
    "import numpy as np\n",
    "import matplotlib.pyplot as plt # to plot inage, graph\n",
    "\n",
    "import pickle\n",
    "import time # for computation time assessment\n",
    "%matplotlib inline"
   ]
  },
  {
   "cell_type": "markdown",
   "metadata": {},
   "source": [
    "## Prepare Dataset"
   ]
  },
  {
   "cell_type": "markdown",
   "metadata": {},
   "source": [
    "### Pickle Dataset"
   ]
  },
  {
   "cell_type": "code",
   "execution_count": 2,
   "metadata": {},
   "outputs": [],
   "source": [
    "pickle_in = open(\"X.pickle\", \"rb\")\n",
    "X = pickle.load(pickle_in)\n",
    "\n",
    "pickle_in = open(\"y.pickle\", \"rb\")\n",
    "y = pickle.load(pickle_in)\n",
    "\n",
    "pickle_in = open(\"data.pickle\", \"rb\")\n",
    "data = pickle.load(pickle_in) # Data Matrix will serve as X"
   ]
  },
  {
   "cell_type": "markdown",
   "metadata": {},
   "source": [
    "### Dataset Classification Distribution"
   ]
  },
  {
   "cell_type": "code",
   "execution_count": 3,
   "metadata": {},
   "outputs": [
    {
     "name": "stdout",
     "output_type": "stream",
     "text": [
      "# of Samples: 17687\n",
      "# of Without A Mask: 5909\n",
      "# of Incorrectly Worn Mask: 5895\n",
      "# of With A Mask: 5883\n"
     ]
    }
   ],
   "source": [
    "# RECALL\n",
    "# CLASS 0: NO MASK\n",
    "# CLASS 1: INCORRECT WEAR OF MASK\n",
    "# CLASS 2: CORRECT WEAR OF MASK\n",
    "# See Data Preprocessing for more information\n",
    "\n",
    "print('# of Samples:', len(y))\n",
    "print('# of Without A Mask:', (y == 0).sum())\n",
    "print('# of Incorrectly Worn Mask:', (y == 1).sum())\n",
    "print('# of With A Mask:', (y == 2).sum())"
   ]
  },
  {
   "cell_type": "markdown",
   "metadata": {},
   "source": [
    "### Convert Numpy to Dataframe"
   ]
  },
  {
   "cell_type": "code",
   "execution_count": 4,
   "metadata": {},
   "outputs": [
    {
     "name": "stdout",
     "output_type": "stream",
     "text": [
      "    P0   P1   P2   P3   P4   P5   P6   P7   P8   P9  ... P4086 P4087 P4088  \\\n",
      "0   20   21   19   22   29   31   37   51   54   37  ...   132   131   106   \n",
      "1  127  127  125  126   87   69   34   30   33   37  ...   141   156   156   \n",
      "2   48   43   37   34   34   40   49   83  100  106  ...    79    58    41   \n",
      "3  184   91   63   25   14   17   15   35   44   41  ...    84    86    53   \n",
      "4  111  125  126   97  109  140  168  185  166   91  ...   138    61    27   \n",
      "\n",
      "  P4089 P4090 P4091 P4092 P4093 P4094 P4095  \n",
      "0   158   125    43    24    21    21    34  \n",
      "1   149   150   149   145   125   115   103  \n",
      "2    21    14    19    22    23    20    21  \n",
      "3    17    13    13    14    11    13    15  \n",
      "4    35    30    38    34    45    54    48  \n",
      "\n",
      "[5 rows x 4096 columns]\n",
      "   Mask_Target\n",
      "0            0\n",
      "1            0\n",
      "2            0\n",
      "3            0\n",
      "4            0\n"
     ]
    }
   ],
   "source": [
    "# Get Column Names\n",
    "cols = []\n",
    "for i in range(0, len(data[0])):\n",
    "    cols.append(\"P\" + str(i))\n",
    "\n",
    "# Convert to Dataframe\n",
    "numpy_data = data\n",
    "X = pd.DataFrame(data=numpy_data, columns=[cols])\n",
    "print(X.head())\n",
    "\n",
    "y = pd.DataFrame(data=y, columns=[\"Mask_Target\"])\n",
    "print(y.head())"
   ]
  },
  {
   "cell_type": "markdown",
   "metadata": {},
   "source": [
    "### Data Shape"
   ]
  },
  {
   "cell_type": "code",
   "execution_count": 5,
   "metadata": {},
   "outputs": [
    {
     "name": "stdout",
     "output_type": "stream",
     "text": [
      "\n",
      "Image Data Shape: (17687, 4096)\n",
      "Image Data Shape Features: (17687, 4096)\n",
      "Image Data Shape Target: (17687, 1)\n"
     ]
    }
   ],
   "source": [
    "# Shape\n",
    "print('\\nImage Data Shape:', X.shape)\n",
    "print('Image Data Shape Features:', data.shape)\n",
    "print('Image Data Shape Target:', y.shape)"
   ]
  },
  {
   "cell_type": "markdown",
   "metadata": {},
   "source": [
    "### Normalize the Data"
   ]
  },
  {
   "cell_type": "code",
   "execution_count": 6,
   "metadata": {},
   "outputs": [],
   "source": [
    "# Normalize the pixel values\n",
    "X = X / 255.0"
   ]
  },
  {
   "cell_type": "markdown",
   "metadata": {},
   "source": [
    "### Split Train + Test, random_state"
   ]
  },
  {
   "cell_type": "code",
   "execution_count": 7,
   "metadata": {},
   "outputs": [
    {
     "name": "stdout",
     "output_type": "stream",
     "text": [
      "Length of our Training data:  14149 \n",
      "Length of our Testing data:  3538\n"
     ]
    }
   ],
   "source": [
    "# Split our data into testing and training.\n",
    "X_train, X_test, y_train, y_test = train_test_split(X, y, test_size=0.2, random_state=45)\n",
    "\n",
    "# Print the length and width of our testing data.\n",
    "print('Length of our Training data: ', len(X_train), '\\nLength of our Testing data: ', len(X_test))"
   ]
  },
  {
   "cell_type": "markdown",
   "metadata": {},
   "source": [
    "## KNN No Hyperparameter Tuning\n",
    "Build and train KNN model with default parameters"
   ]
  },
  {
   "cell_type": "code",
   "execution_count": 8,
   "metadata": {},
   "outputs": [
    {
     "data": {
      "text/plain": [
       "KNeighborsClassifier()"
      ]
     },
     "execution_count": 8,
     "metadata": {},
     "output_type": "execute_result"
    }
   ],
   "source": [
    "# Initialize KNN model\n",
    "knn = KNeighborsClassifier()\n",
    "\n",
    "# Use training data to fit KNN model\n",
    "knn.fit(X_train, y_train.values.ravel())"
   ]
  },
  {
   "cell_type": "code",
   "execution_count": 9,
   "metadata": {},
   "outputs": [
    {
     "name": "stdout",
     "output_type": "stream",
     "text": [
      "CPU times: user 5min 4s, sys: 446 ms, total: 5min 4s\n",
      "Wall time: 5min 5s\n"
     ]
    }
   ],
   "source": [
    "%%time\n",
    "# make prediction on entire test data\n",
    "predictions_set1 = knn.predict(X_test)"
   ]
  },
  {
   "cell_type": "code",
   "execution_count": 10,
   "metadata": {},
   "outputs": [],
   "source": [
    "# Save Predictions in a pickle\n",
    "pickle_out = open(\"predictions_set1.pickle\", \"wb\")\n",
    "pickle.dump(predictions_set1, pickle_out)\n",
    "pickle_out.close()"
   ]
  },
  {
   "cell_type": "markdown",
   "metadata": {},
   "source": [
    "## Performance Metrics for No Hyperparameter Tuning"
   ]
  },
  {
   "cell_type": "markdown",
   "metadata": {},
   "source": [
    "#### Accuracy"
   ]
  },
  {
   "cell_type": "code",
   "execution_count": 11,
   "metadata": {},
   "outputs": [
    {
     "name": "stdout",
     "output_type": "stream",
     "text": [
      "KNN Accuracy: 0.758\n"
     ]
    }
   ],
   "source": [
    "# 75-82% accuracy depending on the divide\n",
    "print('KNN Accuracy: %.3f' % accuracy_score(y_test, predictions_set1))"
   ]
  },
  {
   "cell_type": "markdown",
   "metadata": {},
   "source": [
    "#### Confusion Matrix"
   ]
  },
  {
   "cell_type": "code",
   "execution_count": 12,
   "metadata": {},
   "outputs": [
    {
     "data": {
      "text/plain": [
       "Text(0.5, 1.0, 'Accuracy Score: 0.7577727529677784')"
      ]
     },
     "execution_count": 12,
     "metadata": {},
     "output_type": "execute_result"
    },
    {
     "data": {
      "image/png": "[encoded data removed]",
      "text/plain": [
       "<Figure size 648x648 with 2 Axes>"
      ]
     },
     "metadata": {
      "needs_background": "light"
     },
     "output_type": "display_data"
    }
   ],
   "source": [
    "# Calculate Confusion Matrix\n",
    "cm = confusion_matrix(y_test, predictions_set1)\n",
    "\n",
    "plt.figure(figsize=(9,9))\n",
    "# Heatmap visualization of accuracy\n",
    "sns.heatmap(cm,annot=True, fmt='.3f', linewidths=.5, square=True,cmap='Reds_r')\n",
    "plt.ylabel('Actual label')\n",
    "plt.xlabel('Predicted label')\n",
    "all_sample_title = 'Accuracy Score: {0}'.format(accuracy_score(y_test, predictions_set1))\n",
    "plt.title(all_sample_title,size=15)"
   ]
  },
  {
   "cell_type": "markdown",
   "metadata": {},
   "source": [
    "### Precision, Recall, F1 Score & Classification Report, No Hyperparameter Tuning"
   ]
  },
  {
   "cell_type": "code",
   "execution_count": 13,
   "metadata": {},
   "outputs": [
    {
     "name": "stdout",
     "output_type": "stream",
     "text": [
      "KNN Precision: 0.758\n",
      "KNN Recall: 0.758\n",
      "KNN F1 Score: 0.758\n",
      "\n",
      "No Hyperparameter Tuning Classification Report\n",
      "               precision    recall  f1-score   support\n",
      "\n",
      "           0       0.59      0.98      0.74      1178\n",
      "           1       0.98      0.75      0.85      1180\n",
      "           2       0.92      0.54      0.68      1180\n",
      "\n",
      "    accuracy                           0.76      3538\n",
      "   macro avg       0.83      0.76      0.76      3538\n",
      "weighted avg       0.83      0.76      0.76      3538\n",
      "\n"
     ]
    }
   ],
   "source": [
    "print('KNN Precision: %.3f' % precision_score(y_test, predictions_set1, average='micro'))\n",
    "print('KNN Recall: %.3f' % recall_score(y_test, predictions_set1, average='micro'))\n",
    "print('KNN F1 Score: %.3f' % f1_score(y_test, predictions_set1, average='micro'))\n",
    "print(\"\\nNo Hyperparameter Tuning Classification Report\\n\", classification_report(y_test, predictions_set1))"
   ]
  },
  {
   "cell_type": "markdown",
   "metadata": {},
   "source": [
    "## Dimensionality Reduction"
   ]
  },
  {
   "cell_type": "markdown",
   "metadata": {},
   "source": [
    "### Principal Component Analysis, Keep 90% of variance"
   ]
  },
  {
   "cell_type": "code",
   "execution_count": 35,
   "metadata": {},
   "outputs": [
    {
     "name": "stdout",
     "output_type": "stream",
     "text": [
      "(14149, 153)\n",
      "(14149, 4096)\n"
     ]
    }
   ],
   "source": [
    "# Dimensionality Reduction with Principal Component Analysis (PCA)\n",
    "pca = PCA(0.90) # Preserve 90% of the variance\n",
    "\n",
    "X_transformed = pca.fit_transform(X_train) # Fit the pca transform with X_train\n",
    "X_test_transformed = pca.transform(X_test) # Apply transform to X_test\n",
    "\n",
    "# Training set shape after Principal Component Analysis form\n",
    "print(X_transformed.shape)\n",
    "\n",
    "# Original Training Set Shape\n",
    "# Notice we lose 3,943 features using PCA, while preserving 90% variance\n",
    "print(X_train.shape)"
   ]
  },
  {
   "cell_type": "code",
   "execution_count": 36,
   "metadata": {},
   "outputs": [
    {
     "data": {
      "text/plain": [
       "KNeighborsClassifier()"
      ]
     },
     "execution_count": 36,
     "metadata": {},
     "output_type": "execute_result"
    }
   ],
   "source": [
    "# Initialize KNN model for PCA instance\n",
    "knn_pca = KNeighborsClassifier()\n",
    "\n",
    "# Use training data to fit KNN model with transformed X_train\n",
    "knn_pca.fit(X_transformed, y_train.values.ravel())"
   ]
  },
  {
   "cell_type": "code",
   "execution_count": 37,
   "metadata": {},
   "outputs": [
    {
     "name": "stdout",
     "output_type": "stream",
     "text": [
      "Accuracy Train PCA: 0.8908050038872005\n",
      "CPU times: user 34.7 s, sys: 113 ms, total: 34.9 s\n",
      "Wall time: 35 s\n"
     ]
    }
   ],
   "source": [
    "%%time\n",
    "# make prediction on entire train data\n",
    "predictions_set_pca = knn_pca.predict(X_transformed)\n",
    "print(\"Accuracy Train PCA:\", accuracy_score(y_train, predictions_set_pca))"
   ]
  },
  {
   "cell_type": "code",
   "execution_count": 38,
   "metadata": {},
   "outputs": [
    {
     "name": "stdout",
     "output_type": "stream",
     "text": [
      "Accuracy Train PCA: 0.8352176370830978\n",
      "CPU times: user 8.6 s, sys: 20.4 ms, total: 8.62 s\n",
      "Wall time: 8.64 s\n"
     ]
    }
   ],
   "source": [
    "%%time\n",
    "# make prediction on entire test data\n",
    "predictions_set_pca = knn_pca.predict(X_test_transformed)\n",
    "print(\"Accuracy Train PCA:\", accuracy_score(y_test, predictions_set_pca))"
   ]
  },
  {
   "cell_type": "code",
   "execution_count": 60,
   "metadata": {},
   "outputs": [
    {
     "name": "stdout",
     "output_type": "stream",
     "text": [
      "\n",
      " PCA Classification Report\n",
      "               precision    recall  f1-score   support\n",
      "\n",
      "           0       0.70      0.97      0.81      1178\n",
      "           1       0.97      0.89      0.93      1180\n",
      "           2       0.94      0.64      0.76      1180\n",
      "\n",
      "    accuracy                           0.84      3538\n",
      "   macro avg       0.87      0.84      0.83      3538\n",
      "weighted avg       0.87      0.84      0.83      3538\n",
      "\n"
     ]
    },
    {
     "data": {
      "image/png": "[encoded data removed]",
      "text/plain": [
       "<Figure size 648x648 with 2 Axes>"
      ]
     },
     "metadata": {
      "needs_background": "light"
     },
     "output_type": "display_data"
    }
   ],
   "source": [
    "# Calculate Confusion Matrix for PCA\n",
    "cm = confusion_matrix(y_test, predictions_set_pca)\n",
    "\n",
    "plt.figure(figsize=(9,9))\n",
    "\n",
    "# Heatmap visualization of accuracy\n",
    "sns.heatmap(cm,annot=True, fmt='.3f', linewidths=.5, square=True,cmap='Reds_r')\n",
    "plt.ylabel('Actual label')\n",
    "plt.xlabel('Predicted label')\n",
    "title = 'Accuracy Score Test PCA: {0}'.format(accuracy_score(y_test, predictions_set_pca))\n",
    "plt.title(title,size=15)\n",
    "\n",
    "print(\"\\n PCA Classification Report\\n\", classification_report(y_test, predictions_set_pca))"
   ]
  },
  {
   "cell_type": "markdown",
   "metadata": {},
   "source": [
    "## KNN Hyperparameter Tuning with GridSearchCV"
   ]
  },
  {
   "cell_type": "code",
   "execution_count": 14,
   "metadata": {
    "scrolled": true
   },
   "outputs": [],
   "source": [
    "# New KNN instance model\n",
    "knn = KNeighborsClassifier()\n",
    "\n",
    "# Dictionary of parameter values we are testing performance for\n",
    "param_grid = {'n_neighbors': [5, 7, 9, 11], 'p': [2, 4, 6, 8, 10, 20, 50], 'metric': ['euclidean', 'manhattan', 'minkowski']}\n",
    "\n",
    "# Test all parameter combinations in param_grid\n",
    "knn_gscv = GridSearchCV(knn2, param_grid, scoring='f1_micro', cv=5, verbose=3, n_jobs=-1)"
   ]
  },
  {
   "cell_type": "code",
   "execution_count": 15,
   "metadata": {},
   "outputs": [],
   "source": [
    "# Fit model to data\n",
    "knn_gscv.fit(X_train, y_train.values.ravel())"
   ]
  },
  {
   "cell_type": "code",
   "execution_count": 16,
   "metadata": {},
   "outputs": [],
   "source": [
    "# Get GridSearchCV's top performing parameters and score\n",
    "\n",
    "# Best Params: n_neighbors=5, distance=manhattan, p=2\n",
    "best_params_ = knn_gscv.best_params_\n",
    "\n",
    "# Best Score 82.7%\n",
    "knn_gscv.best_score_"
   ]
  },
  {
   "cell_type": "markdown",
   "metadata": {},
   "source": [
    "## KNN Hyperparameter Tuning with RandomizedSearchCV"
   ]
  },
  {
   "cell_type": "code",
   "execution_count": 17,
   "metadata": {},
   "outputs": [],
   "source": [
    "# Parameter values that should be tested\n",
    "k_range = list(range(1,21))\n",
    "metric = ['manhattan'] # Manhattan distance outperformed Euclidean in GridSearch, so we exclude it here\n",
    "options = ['uniform', 'distance']\n",
    "\n",
    "# Set parameter grid respectively\n",
    "param_grid = dict(n_neighbors=k_range, metric=metric, weights=options)"
   ]
  },
  {
   "cell_type": "code",
   "execution_count": 34,
   "metadata": {},
   "outputs": [],
   "source": [
    "# Notes on RandomizedSearchCV parameters\n",
    "    # n_iter: Number of random combinations it would try\n",
    "    # random_state: Reproducibility/ Set seed\n",
    "\n",
    "# Initialize new KNN model\n",
    "knn_rand = KNeighborsClassifier()\n",
    "\n",
    "# Initialize Randomized Search with params\n",
    "# Cross Validation is 10\n",
    "rand = RandomizedSearchCV(knn_rand, param_grid, cv=10, scoring='accuracy', n_iter=10, random_state=5)\n",
    "\n",
    "# Fit Randomized Search with the training data\n",
    "rand.fit(X_train, y_train.values.ravel())"
   ]
  },
  {
   "cell_type": "code",
   "execution_count": null,
   "metadata": {},
   "outputs": [],
   "source": [
    "rand.best_params_ \n",
    "# {'weights': 'distance', 'n_neighbors': 2, 'metric': 'manhattan'}"
   ]
  },
  {
   "cell_type": "code",
   "execution_count": null,
   "metadata": {},
   "outputs": [],
   "source": [
    "rand.best_score_ \n",
    "# 0.8652206356425648"
   ]
  },
  {
   "cell_type": "code",
   "execution_count": null,
   "metadata": {},
   "outputs": [],
   "source": [
    "# Initial Randomized Search CV result Before Normalization\n",
    "# 0.7488861511088009\n",
    "# {'weights': 'distance', 'n_neighbors': 10}"
   ]
  },
  {
   "cell_type": "markdown",
   "metadata": {},
   "source": [
    "## Performance of Best Params"
   ]
  },
  {
   "cell_type": "code",
   "execution_count": 19,
   "metadata": {},
   "outputs": [],
   "source": [
    "best_params = {'weights': 'distance', 'n_neighbors': 2, 'metric': 'manhattan'}"
   ]
  },
  {
   "cell_type": "code",
   "execution_count": 27,
   "metadata": {},
   "outputs": [
    {
     "name": "stdout",
     "output_type": "stream",
     "text": [
      "Accuracy Train: 1.000\n",
      "Accuracy Test: 0.864\n",
      "\n",
      "Classification Report\n",
      "               precision    recall  f1-score   support\n",
      "\n",
      "           0       0.75      0.96      0.84      1178\n",
      "           1       0.99      0.84      0.91      1180\n",
      "           2       0.91      0.79      0.85      1180\n",
      "\n",
      "    accuracy                           0.86      3538\n",
      "   macro avg       0.88      0.86      0.87      3538\n",
      "weighted avg       0.88      0.86      0.87      3538\n",
      "\n"
     ]
    }
   ],
   "source": [
    "# create new a knn model with best params\n",
    "b_knn = KNeighborsClassifier(**best_params)\n",
    "\n",
    "#fit model to data\n",
    "b_knn.fit(X_train, y_train.values.ravel())\n",
    "\n",
    "# make prediction on entire test data\n",
    "train_pred = b_knn.predict(X_train)\n",
    "\n",
    "# make prediction on entire test data\n",
    "y_pred = b_knn.predict(X_test)\n",
    "\n",
    "print('Accuracy Train: %.3f' % accuracy_score(y_train, train_pred))\n",
    "print('Accuracy Test: %.3f' % accuracy_score(y_test, y_pred))\n",
    "print(\"\\nClassification Report\\n\", classification_report(y_test, y_pred))"
   ]
  },
  {
   "cell_type": "code",
   "execution_count": 28,
   "metadata": {},
   "outputs": [
    {
     "data": {
      "text/plain": [
       "Text(0.5, 1.0, 'Accuracy Score Best Params: 0.8640474844544941')"
      ]
     },
     "execution_count": 28,
     "metadata": {},
     "output_type": "execute_result"
    },
    {
     "data": {
      "image/png": "[encoded data removed]",
      "text/plain": [
       "<Figure size 648x648 with 2 Axes>"
      ]
     },
     "metadata": {
      "needs_background": "light"
     },
     "output_type": "display_data"
    }
   ],
   "source": [
    "# Calculate Confusion Matrix for Best Param Model\n",
    "cm = confusion_matrix(y_test, y_pred)\n",
    "\n",
    "plt.figure(figsize=(9,9))\n",
    "# Heatmap visualization of accuracy\n",
    "sns.heatmap(cm,annot=True, fmt='.3f', linewidths=.5, square=True,cmap='Greens_r')\n",
    "plt.ylabel('Actual label')\n",
    "plt.xlabel('Predicted label')\n",
    "title = 'Accuracy Score Best Params: {0}'.format(accuracy_score(y_test, y_pred))\n",
    "plt.title(title,size=15)"
   ]
  },
  {
   "cell_type": "markdown",
   "metadata": {},
   "source": [
    "## Dimensionality Reduction [Best Params]\n",
    "\n",
    "> Uses Principal Component Analysis on a KNN model with the Best Params."
   ]
  },
  {
   "cell_type": "markdown",
   "metadata": {},
   "source": [
    "### Principal Component Analysis, Keep 90% of variance [Best Params]"
   ]
  },
  {
   "cell_type": "code",
   "execution_count": 29,
   "metadata": {},
   "outputs": [
    {
     "name": "stdout",
     "output_type": "stream",
     "text": [
      "(14149, 153)\n",
      "(14149, 4096)\n"
     ]
    }
   ],
   "source": [
    "# Dimensionality Reduction with Principal Component Analysis (PCA)\n",
    "pca = PCA(0.90) # Preserve 90% of the variance\n",
    "\n",
    "X_transformed = pca.fit_transform(X_train) # Fit the pca transform with X_train\n",
    "X_test_transformed = pca.transform(X_test) # Apply transform to X_test\n",
    "\n",
    "# Training set shape after Principal Component Analysis form\n",
    "print(X_transformed.shape)\n",
    "\n",
    "# Original Training Set Shape\n",
    "# Notice we lose 3,943 features using PCA, while preserving 90% variance\n",
    "print(X_train.shape)"
   ]
  },
  {
   "cell_type": "code",
   "execution_count": 30,
   "metadata": {},
   "outputs": [
    {
     "data": {
      "text/plain": [
       "KNeighborsClassifier(metric='manhattan', n_neighbors=2, weights='distance')"
      ]
     },
     "execution_count": 30,
     "metadata": {},
     "output_type": "execute_result"
    }
   ],
   "source": [
    "# Initialize KNN model for PCA instance\n",
    "knn_pca = KNeighborsClassifier(**best_params)\n",
    "\n",
    "# Use training data to fit KNN model with transformed X_train\n",
    "knn_pca.fit(X_transformed, y_train.values.ravel())"
   ]
  },
  {
   "cell_type": "code",
   "execution_count": 58,
   "metadata": {},
   "outputs": [
    {
     "name": "stdout",
     "output_type": "stream",
     "text": [
      "Accuracy Train PCA: 0.8908050038872005\n",
      "CPU times: user 34.2 s, sys: 125 ms, total: 34.3 s\n",
      "Wall time: 34.4 s\n"
     ]
    }
   ],
   "source": [
    "%%time\n",
    "# make prediction on entire train data\n",
    "predictions_set_pca = knn_pca.predict(X_transformed)\n",
    "print(\"Accuracy Train PCA:\", accuracy_score(y_train, predictions_set_pca))"
   ]
  },
  {
   "cell_type": "code",
   "execution_count": 59,
   "metadata": {},
   "outputs": [
    {
     "name": "stdout",
     "output_type": "stream",
     "text": [
      "Accuracy Train PCA: 0.8352176370830978\n",
      "CPU times: user 8.6 s, sys: 20.6 ms, total: 8.62 s\n",
      "Wall time: 8.64 s\n"
     ]
    }
   ],
   "source": [
    "%%time\n",
    "# make prediction on entire test data\n",
    "predictions_set_pca = knn_pca.predict(X_test_transformed)\n",
    "print(\"Accuracy Train PCA:\", accuracy_score(y_test, predictions_set_pca))"
   ]
  },
  {
   "cell_type": "markdown",
   "metadata": {},
   "source": [
    "### PCA Classification Report [Best Params]"
   ]
  },
  {
   "cell_type": "code",
   "execution_count": 57,
   "metadata": {},
   "outputs": [
    {
     "name": "stdout",
     "output_type": "stream",
     "text": [
      "\n",
      " Best Params PCA Classification Report\n",
      "               precision    recall  f1-score   support\n",
      "\n",
      "           0       0.70      0.97      0.81      1178\n",
      "           1       0.97      0.89      0.93      1180\n",
      "           2       0.94      0.64      0.76      1180\n",
      "\n",
      "    accuracy                           0.84      3538\n",
      "   macro avg       0.87      0.84      0.83      3538\n",
      "weighted avg       0.87      0.84      0.83      3538\n",
      "\n"
     ]
    },
    {
     "data": {
      "image/png": "[encoded data removed]",
      "text/plain": [
       "<Figure size 648x648 with 2 Axes>"
      ]
     },
     "metadata": {
      "needs_background": "light"
     },
     "output_type": "display_data"
    }
   ],
   "source": [
    "# Calculate Confusion Matrix for \n",
    "cm = confusion_matrix(y_test, predictions_set_pca)\n",
    "\n",
    "plt.figure(figsize=(9,9))\n",
    "\n",
    "# Heatmap visualization of accuracy\n",
    "sns.heatmap(cm,annot=True, fmt='.3f', linewidths=.5, square=True,cmap='Oranges_r')\n",
    "plt.ylabel('Actual label')\n",
    "plt.xlabel('Predicted label')\n",
    "title = 'Accuracy Score Test PCA: {0}'.format(accuracy_score(y_test, predictions_set_pca))\n",
    "plt.title(title,size=15)\n",
    "\n",
    "print(\"\\n PCA Classification Report\\n\", classification_report(y_test, predictions_set_pca))"
   ]
  },
  {
   "cell_type": "markdown",
   "metadata": {},
   "source": [
    "## Testing Model Bias \n",
    "\n",
    "Two datasets will be examined and used as unseen test data for our model.\n",
    "- People of Color (POC) dataset\n",
    "- White Individuals (W) dataset\n",
    "\n",
    "We will be using the KNN Model with the best parameters discovered above."
   ]
  },
  {
   "cell_type": "code",
   "execution_count": 40,
   "metadata": {},
   "outputs": [],
   "source": [
    "# Best Parameters for KNN Model\n",
    "best_params = {'weights': 'distance', 'n_neighbors': 2, 'metric': 'manhattan'}"
   ]
  },
  {
   "cell_type": "code",
   "execution_count": 41,
   "metadata": {},
   "outputs": [
    {
     "name": "stdout",
     "output_type": "stream",
     "text": [
      "Features, poc_X shape:  (309, 4096)\n",
      "Target, poc_y shape:  (309,)\n",
      "Features, w_X shape:  (309, 4096)\n",
      "Target, w_y shape:  (309,)\n"
     ]
    }
   ],
   "source": [
    "# Load POC datasets\n",
    "pickle_in = open(\"X_test_POC.pickle\", \"rb\")\n",
    "poc_X = pickle.load(pickle_in)\n",
    "pickle_in = open(\"y_test_POC.pickle\", \"rb\")\n",
    "poc_y = pickle.load(pickle_in)\n",
    "\n",
    "# POC target and feature set shape\n",
    "print(\"Features, poc_X shape: \", poc_X.shape)\n",
    "print(\"Target, poc_y shape: \", poc_y.shape)\n",
    "\n",
    "# Normalize the pixel values\n",
    "poc_X = poc_X / 255.0\n",
    "\n",
    "#===================================================================\n",
    "\n",
    "# Load W datasets\n",
    "pickle_in = open(\"X_test_W.pickle\", \"rb\")\n",
    "w_X = pickle.load(pickle_in)\n",
    "pickle_in = open(\"y_test_W.pickle\", \"rb\")\n",
    "w_y = pickle.load(pickle_in)\n",
    "\n",
    "# W target and feature set shape\n",
    "print(\"Features, w_X shape: \", w_X.shape)\n",
    "print(\"Target, w_y shape: \", w_y.shape)\n",
    "\n",
    "# Normalize the pixel values\n",
    "w_X = w_X / 255.0"
   ]
  },
  {
   "cell_type": "code",
   "execution_count": 42,
   "metadata": {},
   "outputs": [
    {
     "data": {
      "text/plain": [
       "KNeighborsClassifier(metric='manhattan', n_neighbors=2, weights='distance')"
      ]
     },
     "execution_count": 42,
     "metadata": {},
     "output_type": "execute_result"
    }
   ],
   "source": [
    "# Re-initialize KNN model with best params and fit it\n",
    "knn_poc = KNeighborsClassifier(**best_params)\n",
    "knn_poc.fit(X_train, y_train.values.ravel())"
   ]
  },
  {
   "cell_type": "code",
   "execution_count": 44,
   "metadata": {},
   "outputs": [],
   "source": [
    "# make prediction on the entire POC dataset\n",
    "y_pred_poc = knn_poc.predict(poc_X)"
   ]
  },
  {
   "cell_type": "code",
   "execution_count": 47,
   "metadata": {},
   "outputs": [],
   "source": [
    "# make prediction on the entire W dataset\n",
    "y_pred_w = knn_poc.predict(w_X)"
   ]
  },
  {
   "cell_type": "code",
   "execution_count": 52,
   "metadata": {},
   "outputs": [
    {
     "data": {
      "text/plain": [
       "Text(0.5, 1.0, 'POC Accuracy Score: 0.5016181229773463')"
      ]
     },
     "execution_count": 52,
     "metadata": {},
     "output_type": "execute_result"
    },
    {
     "data": {
      "image/png": "[encoded data removed]",
      "text/plain": [
       "<Figure size 648x648 with 2 Axes>"
      ]
     },
     "metadata": {
      "needs_background": "light"
     },
     "output_type": "display_data"
    }
   ],
   "source": [
    "# Calculate Confusion Matrix\n",
    "cm = confusion_matrix(poc_y, y_pred_poc)\n",
    "\n",
    "plt.figure(figsize=(9,9))\n",
    "# Heatmap visualization of accuracy\n",
    "sns.heatmap(cm,annot=True, fmt='.3f', linewidths=.5, square=True,cmap='Reds_r')\n",
    "plt.ylabel('Actual label')\n",
    "plt.xlabel('Predicted label')\n",
    "title = 'POC Accuracy Score: {0}'.format(accuracy_score(poc_y, y_pred_poc))\n",
    "plt.title(title,size=15)"
   ]
  },
  {
   "cell_type": "code",
   "execution_count": 53,
   "metadata": {},
   "outputs": [
    {
     "data": {
      "text/plain": [
       "Text(0.5, 1.0, 'W Accuracy Score: 0.343042071197411')"
      ]
     },
     "execution_count": 53,
     "metadata": {},
     "output_type": "execute_result"
    },
    {
     "data": {
      "image/png": "[encoded data removed]",
      "text/plain": [
       "<Figure size 648x648 with 2 Axes>"
      ]
     },
     "metadata": {
      "needs_background": "light"
     },
     "output_type": "display_data"
    }
   ],
   "source": [
    "# Calculate Confusion Matrix\n",
    "cm = confusion_matrix(w_y, y_pred_w)\n",
    "\n",
    "plt.figure(figsize=(9,9))\n",
    "# Heatmap visualization of accuracy\n",
    "sns.heatmap(cm,annot=True, fmt='.3f', linewidths=.5, square=True,cmap='Reds_r')\n",
    "plt.ylabel('Actual label')\n",
    "plt.xlabel('Predicted label')\n",
    "title = 'W Accuracy Score: {0}'.format(accuracy_score(w_y, y_pred_w))\n",
    "plt.title(title,size=15)"
   ]
  },
  {
   "cell_type": "code",
   "execution_count": 63,
   "metadata": {},
   "outputs": [
    {
     "name": "stdout",
     "output_type": "stream",
     "text": [
      "\n",
      "Classification Report Best Params\n",
      "               precision    recall  f1-score   support\n",
      "\n",
      "           0       0.75      0.96      0.84      1178\n",
      "           1       0.99      0.84      0.91      1180\n",
      "           2       0.91      0.79      0.85      1180\n",
      "\n",
      "    accuracy                           0.86      3538\n",
      "   macro avg       0.88      0.86      0.87      3538\n",
      "weighted avg       0.88      0.86      0.87      3538\n",
      "\n",
      "\n",
      "Classification Report POC Test Dataset\n",
      "               precision    recall  f1-score   support\n",
      "\n",
      "           0       0.39      0.36      0.37       100\n",
      "           1       0.58      0.82      0.68       102\n",
      "           2       0.49      0.33      0.39       107\n",
      "\n",
      "    accuracy                           0.50       309\n",
      "   macro avg       0.49      0.50      0.48       309\n",
      "weighted avg       0.49      0.50      0.48       309\n",
      "\n",
      "\n",
      "Classification Report W Test Dataset\n",
      "               precision    recall  f1-score   support\n",
      "\n",
      "           0       0.38      0.49      0.43       100\n",
      "           1       0.26      0.21      0.23       103\n",
      "           2       0.37      0.33      0.35       106\n",
      "\n",
      "    accuracy                           0.34       309\n",
      "   macro avg       0.34      0.34      0.34       309\n",
      "weighted avg       0.34      0.34      0.34       309\n",
      "\n"
     ]
    }
   ],
   "source": [
    "print(\"\\nClassification Report Best Params\\n\", classification_report(y_test, y_pred))\n",
    "print(\"\\nClassification Report POC Test Dataset\\n\", classification_report(poc_y, y_pred_poc))\n",
    "print(\"\\nClassification Report W Test Dataset\\n\", classification_report(w_y, y_pred_w))"
   ]
  },
  {
   "cell_type": "markdown",
   "metadata": {},
   "source": [
    "## Conclusion"
   ]
  },
  {
   "cell_type": "markdown",
   "metadata": {},
   "source": [
    "Overall the KNN Model performs fairly good. While it doesn't have the best overall accuracies, it appears to classify `incorrect wear of face mask` and `correct wear of face mask` categories with high precision (~92-98%). Contrastingly, however, the model underperformed for predicting the `no face mask` label (with precision ~59%). This is significant because accurately classifying the `no face mask` label is critical in determining the efficacy of face masks in terms of virus transmission and potential outbreaks. This underperformance for the `no mask` label can occur from a range of causes including a poor split between testing and training data, overfitting parameters, and/or a poor training dataset.\n",
    "\n",
    "### Bias Evaluation\n",
    "\n",
    "\n",
    "Sources Referenced for constructing this model:\n",
    "- https://scikit-learn.org/stable/modules/generated/sklearn.neighbors.KNeighborsClassifier.html\n",
    "- https://scikit-learn.org/stable/modules/generated/sklearn.model_selection.GridSearchCV.html\n",
    "- https://scikit-learn.org/stable/modules/generated/sklearn.model_selection.RandomizedSearchCV.html"
   ]
  },
  {
   "cell_type": "markdown",
   "metadata": {},
   "source": [
    "### Saving & Exporting KNN model for future use"
   ]
  },
  {
   "cell_type": "code",
   "execution_count": 51,
   "metadata": {},
   "outputs": [],
   "source": [
    "# NAME OF MODEL\n",
    "filename = 'knn-face-mask-detection-model.pkl'\n",
    "\n",
    "# EXPORT AND SAVE MODEL \n",
    "pickle.dump(b_knn, open(filename, 'wb'))"
   ]
  }
 ],
 "metadata": {
  "kernelspec": {
   "display_name": "Python 3",
   "language": "python",
   "name": "python3"
  },
  "language_info": {
   "codemirror_mode": {
    "name": "ipython",
    "version": 3
   },
   "file_extension": ".py",
   "mimetype": "text/x-python",
   "name": "python",
   "nbconvert_exporter": "python",
   "pygments_lexer": "ipython3",
   "version": "3.8.3"
  }
 },
 "nbformat": 4,
 "nbformat_minor": 4
}
