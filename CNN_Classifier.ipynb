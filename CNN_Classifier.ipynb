{
  "nbformat": 4,
  "nbformat_minor": 0,
  "metadata": {
    "colab": {
      "name": "CNN_Classifier.ipynb",
      "provenance": []
    },
    "kernelspec": {
      "name": "python3",
      "display_name": "Python 3"
    },
    "accelerator": "GPU"
  },
  "cells": [
    {
      "cell_type": "markdown",
      "metadata": {
        "id": "jpiy9Gvl-6Cx"
      },
      "source": [
        "## CNN Classifier (Mask, No Mask, Incorrectly wearing Mask)"
      ]
    },
    {
      "cell_type": "markdown",
      "metadata": {
        "id": "8qbvfJ_S_MR7"
      },
      "source": [
        "### Import Packages"
      ]
    },
    {
      "cell_type": "code",
      "metadata": {
        "id": "qCfhYWYDT2z6"
      },
      "source": [
        "# Import Libraries \n",
        "import numpy as np\n",
        "import matplotlib.pyplot as plt\n",
        "\n",
        "import tensorflow\n",
        "import sklearn\n",
        "from sklearn.model_selection import train_test_split\n",
        "import cv2\n",
        "\n",
        "import seaborn as sns\n",
        "import pickle\n",
        "import os"
      ],
      "execution_count": 1,
      "outputs": []
    },
    {
      "cell_type": "markdown",
      "metadata": {
        "id": "rg1oz2jV93sK"
      },
      "source": [
        "### Load in the dataset that was preprocessed from local directory"
      ]
    },
    {
      "cell_type": "code",
      "metadata": {
        "id": "GdZWFDrtZJy7"
      },
      "source": [
        "# Load in the files from Google Drive \n",
        "\n",
        "filename = '/content/drive/My Drive/Face Detection Dataset/data_pickle/X.pickle'\n",
        "pickle_in = open(filename, 'rb')\n",
        "X = pickle.load(pickle_in)\n",
        "\n",
        "filename = '/content/drive/My Drive/Face Detection Dataset/data_pickle/y.pickle'\n",
        "pickle_in = open(filename, 'rb')\n",
        "y = pickle.load(pickle_in)\n",
        "\n",
        "CATEGORIES = ['Without Mask', 'Incorrectly Wearing Mask', 'Wearing Mask']"
      ],
      "execution_count": 2,
      "outputs": []
    },
    {
      "cell_type": "code",
      "metadata": {
        "id": "dIsabxBQaxwn",
        "colab": {
          "base_uri": "https://localhost:8080/"
        },
        "outputId": "16a7aee5-3631-4734-8932-5f73d2e0997c"
      },
      "source": [
        "# double check to see the types of the loaded files\n",
        "print('Type of X:', type(X))\n",
        "print('Type of y:', type(y))"
      ],
      "execution_count": 3,
      "outputs": [
        {
          "output_type": "stream",
          "text": [
            "Type of X: <class 'numpy.ndarray'>\n",
            "Type of y: <class 'numpy.ndarray'>\n"
          ],
          "name": "stdout"
        }
      ]
    },
    {
      "cell_type": "code",
      "metadata": {
        "id": "e-_uuqKJjNXs",
        "colab": {
          "base_uri": "https://localhost:8080/"
        },
        "outputId": "cc3de2a8-337c-4e41-cfea-5ee068ad0fa5"
      },
      "source": [
        "print('Shape of X:', X.shape)\n",
        "print('Shape of y:', y.shape)"
      ],
      "execution_count": 4,
      "outputs": [
        {
          "output_type": "stream",
          "text": [
            "Shape of X: (17687, 224, 224)\n",
            "Shape of y: (17687,)\n"
          ],
          "name": "stdout"
        }
      ]
    },
    {
      "cell_type": "code",
      "metadata": {
        "id": "mOQ9lDgKa9ce",
        "colab": {
          "base_uri": "https://localhost:8080/"
        },
        "outputId": "c9c02854-e1ae-473d-ea2f-934d9fa5eb89"
      },
      "source": [
        "# print one example of dataset\n",
        "print('X:')\n",
        "print(X[13])\n",
        "print('y:')\n",
        "print(y[13])"
      ],
      "execution_count": 5,
      "outputs": [
        {
          "output_type": "stream",
          "text": [
            "X:\n",
            "[[ 21  21  21 ... 243 243 243]\n",
            " [ 21  21  21 ... 243 243 243]\n",
            " [ 21  21  21 ... 243 243 243]\n",
            " ...\n",
            " [ 97  97  98 ...  51  52  52]\n",
            " [ 97  97  97 ...  51  52  52]\n",
            " [ 97  97  97 ...  51  52  52]]\n",
            "y:\n",
            "0\n"
          ],
          "name": "stdout"
        }
      ]
    },
    {
      "cell_type": "code",
      "metadata": {
        "colab": {
          "base_uri": "https://localhost:8080/",
          "height": 298
        },
        "id": "weVpXB2GFOgh",
        "outputId": "a52d952d-62c2-4351-d553-30178e222919"
      },
      "source": [
        "# Display the one example\n",
        "plt.imshow(X[10], cmap='gray')\n",
        "plt.title(CATEGORIES[y[10]], color='white')\n",
        "print('')"
      ],
      "execution_count": 6,
      "outputs": [
        {
          "output_type": "stream",
          "text": [
            "\n"
          ],
          "name": "stdout"
        },
        {
          "output_type": "display_data",
          "data": {
            "image/png": "[encoded data removed]",
            "text/plain": [
              "<Figure size 432x288 with 1 Axes>"
            ]
          },
          "metadata": {
            "tags": [],
            "needs_background": "light"
          }
        }
      ]
    },
    {
      "cell_type": "markdown",
      "metadata": {
        "id": "ktzFJvIRGQJz"
      },
      "source": [
        "#### EDA"
      ]
    },
    {
      "cell_type": "code",
      "metadata": {
        "id": "bvnLTGU2GPgP"
      },
      "source": [
        "resized_X = []\n",
        "for img in X:\n",
        "    resized_X.append(cv2.resize(img, (64, 64)))"
      ],
      "execution_count": 7,
      "outputs": []
    },
    {
      "cell_type": "code",
      "metadata": {
        "id": "Eqzux7kAGWIX",
        "colab": {
          "base_uri": "https://localhost:8080/"
        },
        "outputId": "61eec3b5-35e6-4ea2-af46-22c43fc232ee"
      },
      "source": [
        "X = np.asarray(resized_X)\n",
        "X = X.reshape(-1, 64, 64, 1)\n",
        "print(X.shape)"
      ],
      "execution_count": 8,
      "outputs": [
        {
          "output_type": "stream",
          "text": [
            "(17687, 64, 64, 1)\n"
          ],
          "name": "stdout"
        }
      ]
    },
    {
      "cell_type": "code",
      "metadata": {
        "id": "yG3key7RGbwT"
      },
      "source": [
        "# normalize the pixel values\n",
        "X = X / 255.0"
      ],
      "execution_count": 9,
      "outputs": []
    },
    {
      "cell_type": "code",
      "metadata": {
        "id": "SScCCjmIGmQj",
        "colab": {
          "base_uri": "https://localhost:8080/"
        },
        "outputId": "db8b3dd3-7761-4a4f-9150-962f7b8dc734"
      },
      "source": [
        "IMG_DIM = X.shape[1]\n",
        "print('IMG_DIM:',IMG_DIM)"
      ],
      "execution_count": 10,
      "outputs": [
        {
          "output_type": "stream",
          "text": [
            "IMG_DIM: 64\n"
          ],
          "name": "stdout"
        }
      ]
    },
    {
      "cell_type": "code",
      "metadata": {
        "id": "s13FHAbgG1sj"
      },
      "source": [
        "# Split dataset into Training and Testing\n",
        "X_train, X_test, y_train, y_test = train_test_split(X, y, test_size=0.2)"
      ],
      "execution_count": 11,
      "outputs": []
    },
    {
      "cell_type": "code",
      "metadata": {
        "colab": {
          "base_uri": "https://localhost:8080/"
        },
        "id": "ipm0aO5lJbCL",
        "outputId": "ba4e8ccf-7098-463a-d1df-45a43937a91b"
      },
      "source": [
        "print('Training Size:', len(X_train))\n",
        "print('Testing  Size:', len(X_test))"
      ],
      "execution_count": 12,
      "outputs": [
        {
          "output_type": "stream",
          "text": [
            "Training Size: 14149\n",
            "Testing  Size: 3538\n"
          ],
          "name": "stdout"
        }
      ]
    },
    {
      "cell_type": "markdown",
      "metadata": {
        "id": "6q0JzNt3GmqB"
      },
      "source": [
        "#### Building and fitting the CNN Model "
      ]
    },
    {
      "cell_type": "code",
      "metadata": {
        "id": "jmlMbhIgG3i4"
      },
      "source": [
        "cnn_model = tensorflow.keras.models.Sequential()"
      ],
      "execution_count": 13,
      "outputs": []
    },
    {
      "cell_type": "code",
      "metadata": {
        "id": "JCbnzA1dHAYa"
      },
      "source": [
        "# Start of Convolution Layers & Maxpooling\n",
        "cnn_model.add(tensorflow.keras.layers.Conv2D(filters=64, kernel_size=3, activation='relu', input_shape=(IMG_DIM, IMG_DIM, 1)))\n",
        "cnn_model.add(tensorflow.keras.layers.Conv2D(filters=64, kernel_size=3, activation='relu'))\n",
        "cnn_model.add(tensorflow.keras.layers.MaxPool2D())\n",
        "\n",
        "cnn_model.add(tensorflow.keras.layers.Conv2D(filters=64, kernel_size=3, activation='relu'))\n",
        "cnn_model.add(tensorflow.keras.layers.Conv2D(filters=64, kernel_size=3, activation='relu'))\n",
        "cnn_model.add(tensorflow.keras.layers.MaxPool2D())\n",
        "\n",
        "cnn_model.add(tensorflow.keras.layers.Conv2D(filters=64, kernel_size=3, activation='relu', input_shape=(IMG_DIM, IMG_DIM, 1)))\n",
        "cnn_model.add(tensorflow.keras.layers.Conv2D(filters=64, kernel_size=3, activation='relu'))\n",
        "cnn_model.add(tensorflow.keras.layers.MaxPool2D())\n",
        "\n",
        "# Start of Neural Nets\n",
        "cnn_model.add(tensorflow.keras.layers.Flatten())\n",
        "\n",
        "cnn_model.add(tensorflow.keras.layers.Dense(512, activation='relu'))\n",
        "cnn_model.add(tensorflow.keras.layers.Dropout(0.3))\n",
        "cnn_model.add(tensorflow.keras.layers.Dense(512, activation='relu'))\n",
        "cnn_model.add(tensorflow.keras.layers.Dropout(0.3))\n",
        "cnn_model.add(tensorflow.keras.layers.Dense(256, activation='relu'))\n",
        "cnn_model.add(tensorflow.keras.layers.Dense(128, activation='relu'))\n",
        "cnn_model.add(tensorflow.keras.layers.Dense(3, activation='softmax'))"
      ],
      "execution_count": 14,
      "outputs": []
    },
    {
      "cell_type": "code",
      "metadata": {
        "id": "vQkdPxKdHD0F",
        "colab": {
          "base_uri": "https://localhost:8080/"
        },
        "outputId": "a1ae4be3-07be-479c-bf08-f6c0a03715d6"
      },
      "source": [
        "cnn_model.summary()"
      ],
      "execution_count": 15,
      "outputs": [
        {
          "output_type": "stream",
          "text": [
            "Model: \"sequential\"\n",
            "_________________________________________________________________\n",
            "Layer (type)                 Output Shape              Param #   \n",
            "=================================================================\n",
            "conv2d (Conv2D)              (None, 62, 62, 64)        640       \n",
            "_________________________________________________________________\n",
            "conv2d_1 (Conv2D)            (None, 60, 60, 64)        36928     \n",
            "_________________________________________________________________\n",
            "max_pooling2d (MaxPooling2D) (None, 30, 30, 64)        0         \n",
            "_________________________________________________________________\n",
            "conv2d_2 (Conv2D)            (None, 28, 28, 64)        36928     \n",
            "_________________________________________________________________\n",
            "conv2d_3 (Conv2D)            (None, 26, 26, 64)        36928     \n",
            "_________________________________________________________________\n",
            "max_pooling2d_1 (MaxPooling2 (None, 13, 13, 64)        0         \n",
            "_________________________________________________________________\n",
            "conv2d_4 (Conv2D)            (None, 11, 11, 64)        36928     \n",
            "_________________________________________________________________\n",
            "conv2d_5 (Conv2D)            (None, 9, 9, 64)          36928     \n",
            "_________________________________________________________________\n",
            "max_pooling2d_2 (MaxPooling2 (None, 4, 4, 64)          0         \n",
            "_________________________________________________________________\n",
            "flatten (Flatten)            (None, 1024)              0         \n",
            "_________________________________________________________________\n",
            "dense (Dense)                (None, 512)               524800    \n",
            "_________________________________________________________________\n",
            "dropout (Dropout)            (None, 512)               0         \n",
            "_________________________________________________________________\n",
            "dense_1 (Dense)              (None, 512)               262656    \n",
            "_________________________________________________________________\n",
            "dropout_1 (Dropout)          (None, 512)               0         \n",
            "_________________________________________________________________\n",
            "dense_2 (Dense)              (None, 256)               131328    \n",
            "_________________________________________________________________\n",
            "dense_3 (Dense)              (None, 128)               32896     \n",
            "_________________________________________________________________\n",
            "dense_4 (Dense)              (None, 3)                 387       \n",
            "=================================================================\n",
            "Total params: 1,137,347\n",
            "Trainable params: 1,137,347\n",
            "Non-trainable params: 0\n",
            "_________________________________________________________________\n"
          ],
          "name": "stdout"
        }
      ]
    },
    {
      "cell_type": "code",
      "metadata": {
        "id": "OHpoSlZVHKc8"
      },
      "source": [
        "# Compile the Model\n",
        "cnn_model.compile(optimizer=tensorflow.keras.optimizers.Adam(), loss='sparse_categorical_crossentropy', metrics=['acc'])"
      ],
      "execution_count": 16,
      "outputs": []
    },
    {
      "cell_type": "code",
      "metadata": {
        "id": "-vypBIABHMNl",
        "colab": {
          "base_uri": "https://localhost:8080/"
        },
        "outputId": "beca7aad-cef9-4786-c2c1-8ada6d916a9b"
      },
      "source": [
        "# Train Model\n",
        "epochs = 10\n",
        "cnn_model.fit(X_train, y_train, epochs=epochs, validation_split=0.1)"
      ],
      "execution_count": 17,
      "outputs": [
        {
          "output_type": "stream",
          "text": [
            "Epoch 1/10\n",
            "398/398 [==============================] - 6s 16ms/step - loss: 0.3631 - acc: 0.8272 - val_loss: 0.1033 - val_acc: 0.9675\n",
            "Epoch 2/10\n",
            "398/398 [==============================] - 6s 15ms/step - loss: 0.0984 - acc: 0.9685 - val_loss: 0.0944 - val_acc: 0.9717\n",
            "Epoch 3/10\n",
            "398/398 [==============================] - 6s 15ms/step - loss: 0.0729 - acc: 0.9753 - val_loss: 0.0628 - val_acc: 0.9788\n",
            "Epoch 4/10\n",
            "398/398 [==============================] - 6s 15ms/step - loss: 0.0522 - acc: 0.9825 - val_loss: 0.0563 - val_acc: 0.9845\n",
            "Epoch 5/10\n",
            "398/398 [==============================] - 6s 15ms/step - loss: 0.0549 - acc: 0.9823 - val_loss: 0.0883 - val_acc: 0.9703\n",
            "Epoch 6/10\n",
            "398/398 [==============================] - 6s 15ms/step - loss: 0.0391 - acc: 0.9870 - val_loss: 0.0544 - val_acc: 0.9767\n",
            "Epoch 7/10\n",
            "398/398 [==============================] - 6s 15ms/step - loss: 0.0365 - acc: 0.9873 - val_loss: 0.0683 - val_acc: 0.9717\n",
            "Epoch 8/10\n",
            "398/398 [==============================] - 6s 15ms/step - loss: 0.0346 - acc: 0.9904 - val_loss: 0.0704 - val_acc: 0.9753\n",
            "Epoch 9/10\n",
            "398/398 [==============================] - 6s 15ms/step - loss: 0.0294 - acc: 0.9910 - val_loss: 0.0688 - val_acc: 0.9781\n",
            "Epoch 10/10\n",
            "398/398 [==============================] - 6s 15ms/step - loss: 0.0268 - acc: 0.9912 - val_loss: 0.0365 - val_acc: 0.9866\n"
          ],
          "name": "stdout"
        },
        {
          "output_type": "execute_result",
          "data": {
            "text/plain": [
              "<tensorflow.python.keras.callbacks.History at 0x7fe6a01cf5f8>"
            ]
          },
          "metadata": {
            "tags": []
          },
          "execution_count": 17
        }
      ]
    },
    {
      "cell_type": "markdown",
      "metadata": {
        "id": "Bu67aEqUHrjq"
      },
      "source": [
        "#### Evalute Performance"
      ]
    },
    {
      "cell_type": "code",
      "metadata": {
        "id": "JVTqv1ENHNvL",
        "colab": {
          "base_uri": "https://localhost:8080/"
        },
        "outputId": "c1121eed-fc94-43c2-c9ff-b2abe9520e2c"
      },
      "source": [
        "# Evaluate performance\n",
        "cnn_model.evaluate(X_test, y_test)"
      ],
      "execution_count": 18,
      "outputs": [
        {
          "output_type": "stream",
          "text": [
            "111/111 [==============================] - 1s 6ms/step - loss: 0.0380 - acc: 0.9876\n"
          ],
          "name": "stdout"
        },
        {
          "output_type": "execute_result",
          "data": {
            "text/plain": [
              "[0.03797728940844536, 0.9875636100769043]"
            ]
          },
          "metadata": {
            "tags": []
          },
          "execution_count": 18
        }
      ]
    },
    {
      "cell_type": "code",
      "metadata": {
        "id": "_meFAampHuay"
      },
      "source": [
        "y_pred = np.argmax(cnn_model.predict(X_test), axis=-1)"
      ],
      "execution_count": 19,
      "outputs": []
    },
    {
      "cell_type": "code",
      "metadata": {
        "colab": {
          "base_uri": "https://localhost:8080/",
          "height": 690
        },
        "id": "LyfAXslHHz9X",
        "outputId": "531490e9-831f-492c-8a26-23d5ad999e6e"
      },
      "source": [
        "cm = sklearn.metrics.confusion_matrix(y_test, y_pred)\n",
        "\n",
        "plt.figure(figsize=(9, 9))\n",
        "sns.heatmap(cm, annot=True, fmt='.0f', square=True, linewidths=.5, cmap='Blues_r')\n",
        "plt.ylabel('Actual Label')\n",
        "plt.xlabel('Predicted Label')\n",
        "\n",
        "print(sklearn.metrics.classification_report(y_test, y_pred))"
      ],
      "execution_count": 20,
      "outputs": [
        {
          "output_type": "stream",
          "text": [
            "              precision    recall  f1-score   support\n",
            "\n",
            "           0       0.99      0.98      0.99      1154\n",
            "           1       1.00      0.99      0.99      1179\n",
            "           2       0.98      0.99      0.98      1205\n",
            "\n",
            "    accuracy                           0.99      3538\n",
            "   macro avg       0.99      0.99      0.99      3538\n",
            "weighted avg       0.99      0.99      0.99      3538\n",
            "\n"
          ],
          "name": "stdout"
        },
        {
          "output_type": "display_data",
          "data": {
            "image/png": "[encoded data removed]",
            "text/plain": [
              "<Figure size 648x648 with 2 Axes>"
            ]
          },
          "metadata": {
            "tags": [],
            "needs_background": "light"
          }
        }
      ]
    },
    {
      "cell_type": "markdown",
      "metadata": {
        "id": "47jJyhTtHkud"
      },
      "source": [
        "#### Save model for future use"
      ]
    },
    {
      "cell_type": "code",
      "metadata": {
        "id": "1_CCuP0mIHvZ",
        "colab": {
          "base_uri": "https://localhost:8080/"
        },
        "outputId": "e2bcd397-70b9-4b1a-c4e6-8331380744af"
      },
      "source": [
        "path = './cnn'\n",
        "cnn_model.save(path)\n",
        "\n",
        "# To load\n",
        "# model = tensorflow.keras.models.load_model(path)"
      ],
      "execution_count": 21,
      "outputs": [
        {
          "output_type": "stream",
          "text": [
            "WARNING:tensorflow:From /usr/local/lib/python3.6/dist-packages/tensorflow/python/training/tracking/tracking.py:111: Model.state_updates (from tensorflow.python.keras.engine.training) is deprecated and will be removed in a future version.\n",
            "Instructions for updating:\n",
            "This property should not be used in TensorFlow 2.0, as updates are applied automatically.\n",
            "WARNING:tensorflow:From /usr/local/lib/python3.6/dist-packages/tensorflow/python/training/tracking/tracking.py:111: Layer.updates (from tensorflow.python.keras.engine.base_layer) is deprecated and will be removed in a future version.\n",
            "Instructions for updating:\n",
            "This property should not be used in TensorFlow 2.0, as updates are applied automatically.\n",
            "INFO:tensorflow:Assets written to: ./cnn/assets\n"
          ],
          "name": "stdout"
        }
      ]
    },
    {
      "cell_type": "code",
      "metadata": {
        "id": "e0QgVB6SILAV"
      },
      "source": [
        ""
      ],
      "execution_count": 21,
      "outputs": []
    }
  ]
}